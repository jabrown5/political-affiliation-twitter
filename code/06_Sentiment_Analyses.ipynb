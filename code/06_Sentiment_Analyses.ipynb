{
  "nbformat": 4,
  "nbformat_minor": 0,
  "metadata": {
    "colab": {
      "name": "06_Sentiment_Analyses.ipynb",
      "provenance": [],
      "collapsed_sections": []
    },
    "kernelspec": {
      "name": "python3",
      "display_name": "Python 3"
    },
    "language_info": {
      "name": "python"
    }
  },
  "cells": [
    {
      "cell_type": "code",
      "metadata": {
        "colab": {
          "base_uri": "https://localhost:8080/"
        },
        "id": "dUdtXdvVQkqq",
        "outputId": "856320a4-1977-40e8-f5ea-6c1d7b39be3c"
      },
      "source": [
        "# If running in google colab:\n",
        "from google.colab import drive\n",
        "drive.mount('/content/drive/', force_remount=True)"
      ],
      "execution_count": 3,
      "outputs": [
        {
          "output_type": "stream",
          "text": [
            "Mounted at /content/drive/\n"
          ],
          "name": "stdout"
        }
      ]
    },
    {
      "cell_type": "code",
      "metadata": {
        "id": "zhzHbeU7Pnx8"
      },
      "source": [
        "\n",
        "import numpy as np\n",
        "import pandas as pd\n",
        "import scipy.stats as stats\n",
        "import seaborn as sns\n",
        "import matplotlib.pyplot as plt\n",
        "\n",
        "from textblob import TextBlob, Word"
      ],
      "execution_count": 4,
      "outputs": []
    },
    {
      "cell_type": "code",
      "metadata": {
        "id": "tI2dCZIzQQQ6"
      },
      "source": [
        "# # Read in data\n",
        "# data = pd.read_csv('../data/vectors_labels_df.csv')\n",
        "\n",
        "# Read in data from Google Colab. Update directory accordingly.\n",
        "data = pd.read_csv('/content/drive/MyDrive/Python/vectors_labels_df.csv')"
      ],
      "execution_count": 5,
      "outputs": []
    },
    {
      "cell_type": "code",
      "metadata": {
        "colab": {
          "base_uri": "https://localhost:8080/",
          "height": 411
        },
        "id": "pprBwL0xQQNT",
        "outputId": "57a641ea-1c7e-4f93-be76-e169ec025822"
      },
      "source": [
        "data.head(2)"
      ],
      "execution_count": 6,
      "outputs": [
        {
          "output_type": "execute_result",
          "data": {
            "text/html": [
              "<div>\n",
              "<style scoped>\n",
              "    .dataframe tbody tr th:only-of-type {\n",
              "        vertical-align: middle;\n",
              "    }\n",
              "\n",
              "    .dataframe tbody tr th {\n",
              "        vertical-align: top;\n",
              "    }\n",
              "\n",
              "    .dataframe thead th {\n",
              "        text-align: right;\n",
              "    }\n",
              "</style>\n",
              "<table border=\"1\" class=\"dataframe\">\n",
              "  <thead>\n",
              "    <tr style=\"text-align: right;\">\n",
              "      <th></th>\n",
              "      <th>Unnamed: 0</th>\n",
              "      <th>screen_name</th>\n",
              "      <th>state</th>\n",
              "      <th>position</th>\n",
              "      <th>name</th>\n",
              "      <th>party</th>\n",
              "      <th>tweet_count</th>\n",
              "      <th>text_concat_clean</th>\n",
              "      <th>liststring</th>\n",
              "      <th>vectors</th>\n",
              "      <th>km_label</th>\n",
              "      <th>dbscan_label</th>\n",
              "    </tr>\n",
              "  </thead>\n",
              "  <tbody>\n",
              "    <tr>\n",
              "      <th>0</th>\n",
              "      <td>0</td>\n",
              "      <td>RepBarragan</td>\n",
              "      <td>CA</td>\n",
              "      <td>Representative</td>\n",
              "      <td>Nanette Diaz Barrag_n</td>\n",
              "      <td>D</td>\n",
              "      <td>4553</td>\n",
              "      <td>['great', 'welcome', 'SenSanders', 'CA44', 'ra...</td>\n",
              "      <td>'great' 'welcome' 'SenSanders' 'CA44' 'rally' ...</td>\n",
              "      <td>[-0.19524726380000001, 0.3918217854, 0.0493305...</td>\n",
              "      <td>1</td>\n",
              "      <td>0</td>\n",
              "    </tr>\n",
              "    <tr>\n",
              "      <th>1</th>\n",
              "      <td>1</td>\n",
              "      <td>ChrisMurphyCT</td>\n",
              "      <td>CT</td>\n",
              "      <td>Senator</td>\n",
              "      <td>Christopher Murphy</td>\n",
              "      <td>D</td>\n",
              "      <td>8793</td>\n",
              "      <td>['new', 'apartment', 'new', 'business', 'new',...</td>\n",
              "      <td>'new' 'apartment' 'new' 'business' 'new' 'rest...</td>\n",
              "      <td>[-0.2074928593, 0.3944523199, 0.0484009482, -0...</td>\n",
              "      <td>0</td>\n",
              "      <td>0</td>\n",
              "    </tr>\n",
              "    <tr>\n",
              "      <th>2</th>\n",
              "      <td>2</td>\n",
              "      <td>RepSwalwell</td>\n",
              "      <td>CA</td>\n",
              "      <td>Representative</td>\n",
              "      <td>Eric Swalwell</td>\n",
              "      <td>D</td>\n",
              "      <td>5841</td>\n",
              "      <td>['literally', 'easy', 'fix', 'save', 'life', '...</td>\n",
              "      <td>'literally' 'easy' 'fix' 'save' 'life' 'httpab...</td>\n",
              "      <td>[-0.2089821815, 0.39251183640000004, 0.0458777...</td>\n",
              "      <td>0</td>\n",
              "      <td>0</td>\n",
              "    </tr>\n",
              "    <tr>\n",
              "      <th>3</th>\n",
              "      <td>3</td>\n",
              "      <td>RepDonBeyer</td>\n",
              "      <td>VA</td>\n",
              "      <td>Representative</td>\n",
              "      <td>Donald Beyer Jr</td>\n",
              "      <td>D</td>\n",
              "      <td>18325</td>\n",
              "      <td>['Baltimore', 'student', 'kill', 'gun', 'schoo...</td>\n",
              "      <td>'Baltimore' 'student' 'kill' 'gun' 'school' 'y...</td>\n",
              "      <td>[-0.21396224300000002, 0.3897273741, 0.0522410...</td>\n",
              "      <td>0</td>\n",
              "      <td>0</td>\n",
              "    </tr>\n",
              "    <tr>\n",
              "      <th>4</th>\n",
              "      <td>4</td>\n",
              "      <td>WarrenDavidson</td>\n",
              "      <td>OH</td>\n",
              "      <td>Representative</td>\n",
              "      <td>Warren Davidson</td>\n",
              "      <td>R</td>\n",
              "      <td>3166</td>\n",
              "      <td>['netneutralityreminder', 'Obama', 'FCC', 'rul...</td>\n",
              "      <td>'netneutralityreminder' 'Obama' 'FCC' 'rule' '...</td>\n",
              "      <td>[-0.20934589990000002, 0.39374101650000004, 0....</td>\n",
              "      <td>0</td>\n",
              "      <td>0</td>\n",
              "    </tr>\n",
              "  </tbody>\n",
              "</table>\n",
              "</div>"
            ],
            "text/plain": [
              "   Unnamed: 0     screen_name  ... km_label dbscan_label\n",
              "0           0     RepBarragan  ...        1            0\n",
              "1           1   ChrisMurphyCT  ...        0            0\n",
              "2           2     RepSwalwell  ...        0            0\n",
              "3           3     RepDonBeyer  ...        0            0\n",
              "4           4  WarrenDavidson  ...        0            0\n",
              "\n",
              "[5 rows x 12 columns]"
            ]
          },
          "metadata": {
            "tags": []
          },
          "execution_count": 6
        }
      ]
    },
    {
      "cell_type": "code",
      "metadata": {
        "id": "1EHppT2MQQIv"
      },
      "source": [
        "# Using TextBlob to find sentiment score for each politician's doc\n",
        "# https://stackabuse.com/sentiment-analysis-in-python-with-textblob/\n",
        "data['sentiment'] = [TextBlob(i).sentiment.polarity for i in data['liststring']]"
      ],
      "execution_count": 7,
      "outputs": []
    },
    {
      "cell_type": "code",
      "metadata": {
        "colab": {
          "base_uri": "https://localhost:8080/",
          "height": 284
        },
        "id": "tQnmCPguQQEZ",
        "outputId": "edbb17de-8961-4c3f-e939-e0ea635ba21e"
      },
      "source": [
        "data.head(2)"
      ],
      "execution_count": 8,
      "outputs": [
        {
          "output_type": "execute_result",
          "data": {
            "text/html": [
              "<div>\n",
              "<style scoped>\n",
              "    .dataframe tbody tr th:only-of-type {\n",
              "        vertical-align: middle;\n",
              "    }\n",
              "\n",
              "    .dataframe tbody tr th {\n",
              "        vertical-align: top;\n",
              "    }\n",
              "\n",
              "    .dataframe thead th {\n",
              "        text-align: right;\n",
              "    }\n",
              "</style>\n",
              "<table border=\"1\" class=\"dataframe\">\n",
              "  <thead>\n",
              "    <tr style=\"text-align: right;\">\n",
              "      <th></th>\n",
              "      <th>Unnamed: 0</th>\n",
              "      <th>screen_name</th>\n",
              "      <th>state</th>\n",
              "      <th>position</th>\n",
              "      <th>name</th>\n",
              "      <th>party</th>\n",
              "      <th>tweet_count</th>\n",
              "      <th>text_concat_clean</th>\n",
              "      <th>liststring</th>\n",
              "      <th>vectors</th>\n",
              "      <th>km_label</th>\n",
              "      <th>dbscan_label</th>\n",
              "      <th>sentiment</th>\n",
              "    </tr>\n",
              "  </thead>\n",
              "  <tbody>\n",
              "    <tr>\n",
              "      <th>0</th>\n",
              "      <td>0</td>\n",
              "      <td>RepBarragan</td>\n",
              "      <td>CA</td>\n",
              "      <td>Representative</td>\n",
              "      <td>Nanette Diaz Barrag_n</td>\n",
              "      <td>D</td>\n",
              "      <td>4553</td>\n",
              "      <td>['great', 'welcome', 'SenSanders', 'CA44', 'ra...</td>\n",
              "      <td>'great' 'welcome' 'SenSanders' 'CA44' 'rally' ...</td>\n",
              "      <td>[-0.19524726380000001, 0.3918217854, 0.0493305...</td>\n",
              "      <td>1</td>\n",
              "      <td>0</td>\n",
              "      <td>0.125939</td>\n",
              "    </tr>\n",
              "    <tr>\n",
              "      <th>1</th>\n",
              "      <td>1</td>\n",
              "      <td>ChrisMurphyCT</td>\n",
              "      <td>CT</td>\n",
              "      <td>Senator</td>\n",
              "      <td>Christopher Murphy</td>\n",
              "      <td>D</td>\n",
              "      <td>8793</td>\n",
              "      <td>['new', 'apartment', 'new', 'business', 'new',...</td>\n",
              "      <td>'new' 'apartment' 'new' 'business' 'new' 'rest...</td>\n",
              "      <td>[-0.2074928593, 0.3944523199, 0.0484009482, -0...</td>\n",
              "      <td>0</td>\n",
              "      <td>0</td>\n",
              "      <td>0.094333</td>\n",
              "    </tr>\n",
              "  </tbody>\n",
              "</table>\n",
              "</div>"
            ],
            "text/plain": [
              "   Unnamed: 0    screen_name state  ... km_label dbscan_label sentiment\n",
              "0           0    RepBarragan    CA  ...        1            0  0.125939\n",
              "1           1  ChrisMurphyCT    CT  ...        0            0  0.094333\n",
              "\n",
              "[2 rows x 13 columns]"
            ]
          },
          "metadata": {
            "tags": []
          },
          "execution_count": 8
        }
      ]
    },
    {
      "cell_type": "code",
      "metadata": {
        "colab": {
          "base_uri": "https://localhost:8080/"
        },
        "id": "1w2-PLd-TzEe",
        "outputId": "12b51c6c-4295-48ee-944d-2edea8e4caf2"
      },
      "source": [
        "data['sentiment'].describe()"
      ],
      "execution_count": 9,
      "outputs": [
        {
          "output_type": "execute_result",
          "data": {
            "text/plain": [
              "count    623.000000\n",
              "mean       0.149323\n",
              "std        0.054367\n",
              "min       -0.281912\n",
              "25%        0.112786\n",
              "50%        0.151760\n",
              "75%        0.182963\n",
              "max        0.375344\n",
              "Name: sentiment, dtype: float64"
            ]
          },
          "metadata": {
            "tags": []
          },
          "execution_count": 9
        }
      ]
    },
    {
      "cell_type": "code",
      "metadata": {
        "id": "NTc22IlUUUkq"
      },
      "source": [
        ""
      ],
      "execution_count": null,
      "outputs": []
    }
  ]
}