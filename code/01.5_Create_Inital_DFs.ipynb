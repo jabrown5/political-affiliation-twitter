{
 "cells": [
  {
   "cell_type": "markdown",
   "id": "26508a9d",
   "metadata": {},
   "source": [
    "# Cleaning and Exploratory Data Analysis"
   ]
  },
  {
   "cell_type": "markdown",
   "id": "da60d2c5",
   "metadata": {},
   "source": [
    "Due to file size constraints set by GitHub, this program subdivides the scraped data files into smaller files that will meet the GitHub size restrictions (100 MB). This allows future users of this project to replicate the findings found within.\n",
    "\n",
    "**Data Sources**\n",
    "\n",
    "Tweets scraped from archive found at: \n",
    "- https://github.com/alexlitel/congresstweets\n",
    "\n",
    "Twitter handles of elected Senators and Representatives found at: \n",
    "- https://www.sbh4all.org/wp-content/uploads/2019/04/116th-Congress-Twitter-Handles.pdf\n",
    "- https://sharedhope.org/wp-content/uploads/2018/02/US-Senate-Twitter-Handles-115th-Congress.pdf\n",
    "- https://www.chn.org/wp-content/uploads/2017/01/house-member-twitter-handles-Jan-2017.pdf\n",
    "\n",
    "Political party affiliations:\n",
    "- https://en.wikipedia.org/wiki/115th_United_States_Congress\n",
    "- https://en.wikipedia.org/wiki/116th_United_States_Congress"
   ]
  },
  {
   "cell_type": "markdown",
   "id": "39bb3ed3",
   "metadata": {},
   "source": [
    "## Read in Libraries"
   ]
  },
  {
   "cell_type": "code",
   "execution_count": 3,
   "id": "0d8d3b89",
   "metadata": {},
   "outputs": [],
   "source": [
    "import pandas as pd\n",
    "import numpy as np\n",
    "import seaborn as sns\n",
    "import matplotlib.pyplot as plt\n",
    "\n",
    "import datetime\n",
    "\n",
    "pd.set_option('display.max_columns', None)\n",
    "pd.set_option('display.max_rows', None)"
   ]
  },
  {
   "cell_type": "markdown",
   "id": "023b8307",
   "metadata": {},
   "source": [
    "## Preliminary Cleaning, Creation of Dataframe\n",
    "\n",
    "### Skip if dataframe has already been created and skip to \"Read In Cleaned Data and Further EDA\" section"
   ]
  },
  {
   "cell_type": "code",
   "execution_count": 4,
   "id": "3bea8578",
   "metadata": {},
   "outputs": [
    {
     "name": "stderr",
     "output_type": "stream",
     "text": [
      "/opt/anaconda3/envs/dsi/lib/python3.8/site-packages/IPython/core/interactiveshell.py:3165: DtypeWarning: Columns (0,1) have mixed types.Specify dtype option on import or set low_memory=False.\n",
      "  has_raised = await self.run_ast_nodes(code_ast.body, cell_name,\n",
      "/opt/anaconda3/envs/dsi/lib/python3.8/site-packages/IPython/core/interactiveshell.py:3165: DtypeWarning: Columns (0,1,8,9) have mixed types.Specify dtype option on import or set low_memory=False.\n",
      "  has_raised = await self.run_ast_nodes(code_ast.body, cell_name,\n"
     ]
    }
   ],
   "source": [
    "# Tweets of the 115th Congress (Jan 3, 2017 - Jan 3, 2019)\n",
    "# Data available only for 2018, 2019\n",
    "df115_1 = pd.read_csv('../data/scrape/tweet_df_2018_1.csv')\n",
    "df115_2 = pd.read_csv('../data/scrape/tweet_df_2018_2.csv')\n",
    "\n",
    "# Tweets of the 116th Congress (Jan 3, 2019 - Jan 3, 2021)\n",
    "df116_1 = pd.read_csv('../data/scrape/tweet_df_2019_1.csv')\n",
    "df116_2 = pd.read_csv('../data/scrape/tweet_df_2019_2.csv')\n",
    "df116_3 = pd.read_csv('../data/scrape/tweet_df_2020_1.csv')\n",
    "df116_4 = pd.read_csv('../data/scrape/tweet_df_2020_2.csv')\n",
    "\n",
    "# keeping only certain columns \n",
    "columns_keep =['id','screen_name','user_id','time','link','text','source']"
   ]
  },
  {
   "cell_type": "code",
   "execution_count": 5,
   "id": "3b560b12",
   "metadata": {},
   "outputs": [],
   "source": [
    "# 115th Congress\n",
    "df115_1 = df115_1[columns_keep]\n",
    "df115_2 = df115_2[columns_keep]\n",
    "\n",
    "# 116th Congress\n",
    "df116_1 = df116_1[columns_keep]\n",
    "df116_2 = df116_2[columns_keep]\n",
    "df116_3 = df116_3[columns_keep]\n",
    "df116_4 = df116_4[columns_keep]"
   ]
  },
  {
   "cell_type": "code",
   "execution_count": 6,
   "id": "033c5273",
   "metadata": {},
   "outputs": [],
   "source": [
    "# combining the 115th Congress dfs and removing duplicates\n",
    "df115 = pd.concat([df115_1, df115_2], axis=0, sort=False)\n",
    "df115 = df115.drop_duplicates()\n",
    "\n",
    "# combining the 116th Congress dfs and removing duplicates\n",
    "df116 = pd.concat([df116_1, df116_2, df116_3, df116_4], axis=0, sort=False)\n",
    "df116 = df116.drop_duplicates()"
   ]
  },
  {
   "cell_type": "code",
   "execution_count": 7,
   "id": "8eb8d659",
   "metadata": {},
   "outputs": [
    {
     "data": {
      "text/plain": [
       "(740479, 7)"
      ]
     },
     "execution_count": 7,
     "metadata": {},
     "output_type": "execute_result"
    }
   ],
   "source": [
    "# Find the shape of 115th congress tweet files for subdivision\n",
    "df115.shape"
   ]
  },
  {
   "cell_type": "code",
   "execution_count": 8,
   "id": "b4d130ce",
   "metadata": {},
   "outputs": [
    {
     "data": {
      "text/plain": [
       "185119.75"
      ]
     },
     "execution_count": 8,
     "metadata": {},
     "output_type": "execute_result"
    }
   ],
   "source": [
    "740479/4"
   ]
  },
  {
   "cell_type": "code",
   "execution_count": 9,
   "id": "3227c183",
   "metadata": {},
   "outputs": [
    {
     "data": {
      "text/plain": [
       "555357"
      ]
     },
     "execution_count": 9,
     "metadata": {},
     "output_type": "execute_result"
    }
   ],
   "source": [
    "185119+185119+185119"
   ]
  },
  {
   "cell_type": "code",
   "execution_count": 10,
   "id": "895a0cf7",
   "metadata": {},
   "outputs": [],
   "source": [
    "# dividing the 115th congress dataframe\n",
    "df115.iloc[0:185119,:].to_csv('../data/scrape/tweet_df_115_1.csv', index=False)\n",
    "df115.iloc[185120:370238,:].to_csv('../data/scrape/tweet_df_115_2.csv', index=False)\n",
    "df115.iloc[370239:555357,:].to_csv('../data/scrape/tweet_df_115_3.csv', index=False)\n",
    "df115.iloc[555357:740479,:].to_csv('../data/scrape/tweet_df_115_4.csv', index=False)"
   ]
  },
  {
   "cell_type": "code",
   "execution_count": 11,
   "id": "04acdb5a",
   "metadata": {},
   "outputs": [
    {
     "data": {
      "text/plain": [
       "(1898432, 7)"
      ]
     },
     "execution_count": 11,
     "metadata": {},
     "output_type": "execute_result"
    }
   ],
   "source": [
    "# Find the shape of 116th congress tweet files for subdivision\n",
    "df116.shape"
   ]
  },
  {
   "cell_type": "code",
   "execution_count": 12,
   "id": "5fec7a85",
   "metadata": {},
   "outputs": [
    {
     "data": {
      "text/plain": [
       "189843.2"
      ]
     },
     "execution_count": 12,
     "metadata": {},
     "output_type": "execute_result"
    }
   ],
   "source": [
    "1898432/10"
   ]
  },
  {
   "cell_type": "code",
   "execution_count": 13,
   "id": "31a77a8c",
   "metadata": {},
   "outputs": [
    {
     "data": {
      "text/plain": [
       "1898430"
      ]
     },
     "execution_count": 13,
     "metadata": {},
     "output_type": "execute_result"
    }
   ],
   "source": [
    "189843+189843+189843+189843+189843+189843+189843+189843+189843+189843"
   ]
  },
  {
   "cell_type": "code",
   "execution_count": 14,
   "id": "1793a732",
   "metadata": {},
   "outputs": [],
   "source": [
    "# dividing the 116th congress dataframe\n",
    "df116.iloc[0:189843,:].to_csv('../data/scrape/tweet_df_116_1.csv', index=False)\n",
    "df116.iloc[189844:379686,:].to_csv('../data/scrape/tweet_df_116_2.csv', index=False)\n",
    "df116.iloc[379687:569529,:].to_csv('../data/scrape/tweet_df_116_3.csv', index=False)\n",
    "df116.iloc[569530:759372,:].to_csv('../data/scrape/tweet_df_116_4.csv', index=False)\n",
    "df116.iloc[759373:949215,:].to_csv('../data/scrape/tweet_df_116_5.csv', index=False)\n",
    "df116.iloc[949216:1139058,:].to_csv('../data/scrape/tweet_df_116_6.csv', index=False)\n",
    "df116.iloc[1139059:1328901,:].to_csv('../data/scrape/tweet_df_116_7.csv', index=False)\n",
    "df116.iloc[1328902:1518744,:].to_csv('../data/scrape/tweet_df_116_8.csv', index=False)\n",
    "df116.iloc[1518745:1708587,:].to_csv('../data/scrape/tweet_df_116_9.csv', index=False)\n",
    "df116.iloc[1708588:1898432,:].to_csv('../data/scrape/tweet_df_116_10.csv', index=False)"
   ]
  }
 ],
 "metadata": {
  "kernelspec": {
   "display_name": "Python 3",
   "language": "python",
   "name": "python3"
  },
  "language_info": {
   "codemirror_mode": {
    "name": "ipython",
    "version": 3
   },
   "file_extension": ".py",
   "mimetype": "text/x-python",
   "name": "python",
   "nbconvert_exporter": "python",
   "pygments_lexer": "ipython3",
   "version": "3.8.8"
  }
 },
 "nbformat": 4,
 "nbformat_minor": 5
}
