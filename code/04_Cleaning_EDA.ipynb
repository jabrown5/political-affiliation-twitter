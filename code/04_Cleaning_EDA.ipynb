{
 "cells": [
  {
   "cell_type": "code",
   "execution_count": null,
   "id": "eda0a74c",
   "metadata": {},
   "outputs": [],
   "source": []
  },
  {
   "cell_type": "code",
   "execution_count": 17,
   "id": "d66e2e0b",
   "metadata": {},
   "outputs": [],
   "source": [
    "# !pip install -U spacy"
   ]
  },
  {
   "cell_type": "code",
   "execution_count": 18,
   "id": "e18df2d1",
   "metadata": {},
   "outputs": [],
   "source": [
    "# !python -m spacy download en_core_web_sm"
   ]
  },
  {
   "cell_type": "code",
   "execution_count": 19,
   "id": "d80843fe",
   "metadata": {},
   "outputs": [],
   "source": [
    "import pandas as pd\n",
    "import numpy as np\n",
    "import seaborn as sns\n",
    "import matplotlib.pyplot as plt\n",
    "\n",
    "\n",
    "\n",
    "import regex as re\n",
    "import unicodedata\n",
    "\n",
    "from sklearn.feature_extraction.text import CountVectorizer\n",
    "from sklearn.model_selection import GridSearchCV\n",
    "from sklearn.cluster import DBSCAN, KMeans\n",
    "from sklearn.metrics import silhouette_score, pairwise_distances\n",
    "\n",
    "import spacy\n",
    "import en_core_web_sm\n",
    "from spacy.lang.en import English\n",
    "from spacy.lang.en.stop_words import STOP_WORDS\n",
    "\n",
    "\n",
    "\n",
    "\n",
    "pd.set_option('display.max_columns', None)\n",
    "pd.set_option('display.max_rows', None)"
   ]
  },
  {
   "cell_type": "code",
   "execution_count": null,
   "id": "b92121e6",
   "metadata": {},
   "outputs": [],
   "source": []
  },
  {
   "cell_type": "code",
   "execution_count": 20,
   "id": "0b83b500",
   "metadata": {},
   "outputs": [
    {
     "data": {
      "text/plain": [
       "(626, 8)"
      ]
     },
     "execution_count": 20,
     "metadata": {},
     "output_type": "execute_result"
    }
   ],
   "source": [
    "# Importing the finalized concatinated dataframe\n",
    "data = pd.read_csv('../data/concat_df.csv')\n",
    "\n",
    "data.shape"
   ]
  },
  {
   "cell_type": "code",
   "execution_count": 21,
   "id": "e17f48d6",
   "metadata": {},
   "outputs": [
    {
     "name": "stdout",
     "output_type": "stream",
     "text": [
      "<class 'pandas.core.frame.DataFrame'>\n",
      "RangeIndex: 626 entries, 0 to 625\n",
      "Data columns (total 8 columns):\n",
      " #   Column       Non-Null Count  Dtype \n",
      "---  ------       --------------  ----- \n",
      " 0   screen_name  626 non-null    object\n",
      " 1   state        626 non-null    object\n",
      " 2   position     626 non-null    object\n",
      " 3   name         626 non-null    object\n",
      " 4   party        626 non-null    object\n",
      " 5   tweet_count  626 non-null    int64 \n",
      " 6   text_concat  626 non-null    object\n",
      " 7   text_length  626 non-null    int64 \n",
      "dtypes: int64(2), object(6)\n",
      "memory usage: 39.2+ KB\n"
     ]
    }
   ],
   "source": [
    "data.info()"
   ]
  },
  {
   "cell_type": "code",
   "execution_count": 22,
   "id": "115e041c",
   "metadata": {},
   "outputs": [
    {
     "data": {
      "text/html": [
       "<div>\n",
       "<style scoped>\n",
       "    .dataframe tbody tr th:only-of-type {\n",
       "        vertical-align: middle;\n",
       "    }\n",
       "\n",
       "    .dataframe tbody tr th {\n",
       "        vertical-align: top;\n",
       "    }\n",
       "\n",
       "    .dataframe thead th {\n",
       "        text-align: right;\n",
       "    }\n",
       "</style>\n",
       "<table border=\"1\" class=\"dataframe\">\n",
       "  <thead>\n",
       "    <tr style=\"text-align: right;\">\n",
       "      <th></th>\n",
       "      <th>screen_name</th>\n",
       "      <th>state</th>\n",
       "      <th>position</th>\n",
       "      <th>name</th>\n",
       "      <th>party</th>\n",
       "      <th>tweet_count</th>\n",
       "      <th>text_concat</th>\n",
       "      <th>text_length</th>\n",
       "    </tr>\n",
       "  </thead>\n",
       "  <tbody>\n",
       "    <tr>\n",
       "      <th>0</th>\n",
       "      <td>RepBarragan</td>\n",
       "      <td>CA</td>\n",
       "      <td>Representative</td>\n",
       "      <td>Nanette Diaz Barrag_n</td>\n",
       "      <td>D</td>\n",
       "      <td>4553</td>\n",
       "      <td>So great to welcome @SenSanders to #CA44 for a...</td>\n",
       "      <td>1571519</td>\n",
       "    </tr>\n",
       "    <tr>\n",
       "      <th>1</th>\n",
       "      <td>ChrisMurphyCT</td>\n",
       "      <td>CT</td>\n",
       "      <td>Senator</td>\n",
       "      <td>Christopher Murphy</td>\n",
       "      <td>D</td>\n",
       "      <td>8793</td>\n",
       "      <td>New apartments, new businesses and new restaur...</td>\n",
       "      <td>2801192</td>\n",
       "    </tr>\n",
       "    <tr>\n",
       "      <th>2</th>\n",
       "      <td>RepSwalwell</td>\n",
       "      <td>CA</td>\n",
       "      <td>Representative</td>\n",
       "      <td>Eric Swalwell</td>\n",
       "      <td>D</td>\n",
       "      <td>5841</td>\n",
       "      <td>Literally, the easiest fix we could make to sa...</td>\n",
       "      <td>1843540</td>\n",
       "    </tr>\n",
       "  </tbody>\n",
       "</table>\n",
       "</div>"
      ],
      "text/plain": [
       "     screen_name state        position                   name party  \\\n",
       "0    RepBarragan    CA  Representative  Nanette Diaz Barrag_n     D   \n",
       "1  ChrisMurphyCT    CT         Senator     Christopher Murphy     D   \n",
       "2    RepSwalwell    CA  Representative          Eric Swalwell     D   \n",
       "\n",
       "   tweet_count                                        text_concat  text_length  \n",
       "0         4553  So great to welcome @SenSanders to #CA44 for a...      1571519  \n",
       "1         8793  New apartments, new businesses and new restaur...      2801192  \n",
       "2         5841  Literally, the easiest fix we could make to sa...      1843540  "
      ]
     },
     "execution_count": 22,
     "metadata": {},
     "output_type": "execute_result"
    }
   ],
   "source": [
    "data.head(3)"
   ]
  },
  {
   "cell_type": "code",
   "execution_count": 23,
   "id": "5e30dda0",
   "metadata": {},
   "outputs": [
    {
     "data": {
      "text/plain": [
       "screen_name    0\n",
       "state          0\n",
       "position       0\n",
       "name           0\n",
       "party          0\n",
       "tweet_count    0\n",
       "text_concat    0\n",
       "text_length    0\n",
       "dtype: int64"
      ]
     },
     "execution_count": 23,
     "metadata": {},
     "output_type": "execute_result"
    }
   ],
   "source": [
    "\n",
    "data.isnull().sum()"
   ]
  },
  {
   "cell_type": "code",
   "execution_count": 24,
   "id": "de48dd0a",
   "metadata": {},
   "outputs": [
    {
     "data": {
      "text/html": [
       "<div>\n",
       "<style scoped>\n",
       "    .dataframe tbody tr th:only-of-type {\n",
       "        vertical-align: middle;\n",
       "    }\n",
       "\n",
       "    .dataframe tbody tr th {\n",
       "        vertical-align: top;\n",
       "    }\n",
       "\n",
       "    .dataframe thead th {\n",
       "        text-align: right;\n",
       "    }\n",
       "</style>\n",
       "<table border=\"1\" class=\"dataframe\">\n",
       "  <thead>\n",
       "    <tr style=\"text-align: right;\">\n",
       "      <th></th>\n",
       "      <th>screen_name</th>\n",
       "      <th>state</th>\n",
       "      <th>position</th>\n",
       "      <th>name</th>\n",
       "      <th>party</th>\n",
       "      <th>tweet_count</th>\n",
       "      <th>text_concat</th>\n",
       "      <th>text_length</th>\n",
       "    </tr>\n",
       "  </thead>\n",
       "  <tbody>\n",
       "    <tr>\n",
       "      <th>0</th>\n",
       "      <td>RepBarragan</td>\n",
       "      <td>CA</td>\n",
       "      <td>Representative</td>\n",
       "      <td>Nanette Diaz Barrag_n</td>\n",
       "      <td>D</td>\n",
       "      <td>4553</td>\n",
       "      <td>So great to welcome @SenSanders to #CA44 for a...</td>\n",
       "      <td>1571519</td>\n",
       "    </tr>\n",
       "    <tr>\n",
       "      <th>1</th>\n",
       "      <td>ChrisMurphyCT</td>\n",
       "      <td>CT</td>\n",
       "      <td>Senator</td>\n",
       "      <td>Christopher Murphy</td>\n",
       "      <td>D</td>\n",
       "      <td>8793</td>\n",
       "      <td>New apartments, new businesses and new restaur...</td>\n",
       "      <td>2801192</td>\n",
       "    </tr>\n",
       "    <tr>\n",
       "      <th>2</th>\n",
       "      <td>RepSwalwell</td>\n",
       "      <td>CA</td>\n",
       "      <td>Representative</td>\n",
       "      <td>Eric Swalwell</td>\n",
       "      <td>D</td>\n",
       "      <td>5841</td>\n",
       "      <td>Literally, the easiest fix we could make to sa...</td>\n",
       "      <td>1843540</td>\n",
       "    </tr>\n",
       "  </tbody>\n",
       "</table>\n",
       "</div>"
      ],
      "text/plain": [
       "     screen_name state        position                   name party  \\\n",
       "0    RepBarragan    CA  Representative  Nanette Diaz Barrag_n     D   \n",
       "1  ChrisMurphyCT    CT         Senator     Christopher Murphy     D   \n",
       "2    RepSwalwell    CA  Representative          Eric Swalwell     D   \n",
       "\n",
       "   tweet_count                                        text_concat  text_length  \n",
       "0         4553  So great to welcome @SenSanders to #CA44 for a...      1571519  \n",
       "1         8793  New apartments, new businesses and new restaur...      2801192  \n",
       "2         5841  Literally, the easiest fix we could make to sa...      1843540  "
      ]
     },
     "execution_count": 24,
     "metadata": {},
     "output_type": "execute_result"
    }
   ],
   "source": [
    "# making sure there are no spaces at start or end of cells\n",
    "data['screen_name'] = [i.strip() for i in data['screen_name']]\n",
    "data['state'] = [i.strip() for i in data['state']]\n",
    "data['position'] = [i.strip() for i in data['position']]\n",
    "data['name'] = [i.strip() for i in data['name']]\n",
    "data['party'] = [i.strip() for i in data['party']]\n",
    "data['text_concat'] = [i.strip() for i in data['text_concat']]\n",
    "\n",
    "data.head(3)"
   ]
  },
  {
   "cell_type": "code",
   "execution_count": 25,
   "id": "cd0aba4a",
   "metadata": {},
   "outputs": [],
   "source": [
    "# Removing all emojis\n",
    "# HELP:  https://gist.github.com/Alex-Just/e86110836f3f93fe7932290526529cd1#file-strip_emoji-py\n",
    "\n",
    "remove_emojis = re.compile(\n",
    "    \"([\"\n",
    "    \"\\U0001F1E0-\\U0001F1FF\"  # flags (iOS)\n",
    "    \"\\U0001F300-\\U0001F5FF\"  # symbols & pictographs\n",
    "    \"\\U0001F600-\\U0001F64F\"  # emoticons\n",
    "    \"\\U0001F680-\\U0001F6FF\"  # transport & map symbols\n",
    "    \"\\U0001F700-\\U0001F77F\"  # alchemical symbols\n",
    "    \"\\U0001F780-\\U0001F7FF\"  # Geometric Shapes Extended\n",
    "    \"\\U0001F800-\\U0001F8FF\"  # Supplemental Arrows-C\n",
    "    \"\\U0001F900-\\U0001F9FF\"  # Supplemental Symbols and Pictographs\n",
    "    \"\\U0001FA00-\\U0001FA6F\"  # Chess Symbols\n",
    "    \"\\U0001FA70-\\U0001FAFF\"  # Symbols and Pictographs Extended-A\n",
    "    \"\\U00002702-\\U000027B0\"  # Dingbats\n",
    "    \"])\"\n",
    "  )\n",
    "\n",
    "data['text_concat'] = [re.sub(remove_emojis, '', i) for i in data['text_concat']]\n",
    "\n",
    "# creating a new column to see if length of text_concat has changed\n",
    "# after the removal of emojis\n",
    "data['text_length_1'] = data['text_concat'].apply(len)"
   ]
  },
  {
   "cell_type": "code",
   "execution_count": 26,
   "id": "f823cd0a",
   "metadata": {},
   "outputs": [],
   "source": [
    "# Removing hyperlinks from tweet text\n",
    "# HELP: https://stackoverflow.com/questions/11331982/how-to-remove-any-url-within-a-string-in-python\n",
    "data['text_concat'] = [re.sub(r'^https?:\\/\\/.*[\\r\\n]*', '', i) for i in data['text_concat']]\n",
    "\n",
    "# creating a new column to see if length of text_concat has changed\n",
    "# after the removal of hyperlinks\n",
    "data['text_length_2'] = data['text_concat'].apply(len)"
   ]
  },
  {
   "cell_type": "code",
   "execution_count": 27,
   "id": "e2902f96",
   "metadata": {},
   "outputs": [],
   "source": [
    "# Remove punctuation, special characters, and numbers\n",
    "data['text_concat'] = [re.sub(r'[^a-zA-Z0-9 ]+', '', i) for i in data['text_concat']]\n",
    "\n",
    "# creating a new column to see if length of text_concat has changed\n",
    "# after the removal of any other special characters, punctuation, numbers\n",
    "data['text_length_3'] = data['text_concat'].apply(len)"
   ]
  },
  {
   "cell_type": "code",
   "execution_count": 28,
   "id": "a8e95784",
   "metadata": {},
   "outputs": [
    {
     "data": {
      "text/html": [
       "<div>\n",
       "<style scoped>\n",
       "    .dataframe tbody tr th:only-of-type {\n",
       "        vertical-align: middle;\n",
       "    }\n",
       "\n",
       "    .dataframe tbody tr th {\n",
       "        vertical-align: top;\n",
       "    }\n",
       "\n",
       "    .dataframe thead th {\n",
       "        text-align: right;\n",
       "    }\n",
       "</style>\n",
       "<table border=\"1\" class=\"dataframe\">\n",
       "  <thead>\n",
       "    <tr style=\"text-align: right;\">\n",
       "      <th></th>\n",
       "      <th>screen_name</th>\n",
       "      <th>state</th>\n",
       "      <th>position</th>\n",
       "      <th>name</th>\n",
       "      <th>party</th>\n",
       "      <th>tweet_count</th>\n",
       "      <th>text_concat</th>\n",
       "      <th>text_length</th>\n",
       "      <th>text_length_1</th>\n",
       "      <th>text_length_2</th>\n",
       "      <th>text_length_3</th>\n",
       "    </tr>\n",
       "  </thead>\n",
       "  <tbody>\n",
       "    <tr>\n",
       "      <th>0</th>\n",
       "      <td>RepBarragan</td>\n",
       "      <td>CA</td>\n",
       "      <td>Representative</td>\n",
       "      <td>Nanette Diaz Barrag_n</td>\n",
       "      <td>D</td>\n",
       "      <td>4553</td>\n",
       "      <td>So great to welcome SenSanders to CA44 for a r...</td>\n",
       "      <td>1571519</td>\n",
       "      <td>1570974</td>\n",
       "      <td>1570974</td>\n",
       "      <td>1449495</td>\n",
       "    </tr>\n",
       "    <tr>\n",
       "      <th>1</th>\n",
       "      <td>ChrisMurphyCT</td>\n",
       "      <td>CT</td>\n",
       "      <td>Senator</td>\n",
       "      <td>Christopher Murphy</td>\n",
       "      <td>D</td>\n",
       "      <td>8793</td>\n",
       "      <td>New apartments new businesses and new restaura...</td>\n",
       "      <td>2801192</td>\n",
       "      <td>2800624</td>\n",
       "      <td>2800624</td>\n",
       "      <td>2598814</td>\n",
       "    </tr>\n",
       "    <tr>\n",
       "      <th>2</th>\n",
       "      <td>RepSwalwell</td>\n",
       "      <td>CA</td>\n",
       "      <td>Representative</td>\n",
       "      <td>Eric Swalwell</td>\n",
       "      <td>D</td>\n",
       "      <td>5841</td>\n",
       "      <td>Literally the easiest fix we could make to sav...</td>\n",
       "      <td>1843540</td>\n",
       "      <td>1842810</td>\n",
       "      <td>1842810</td>\n",
       "      <td>1704609</td>\n",
       "    </tr>\n",
       "    <tr>\n",
       "      <th>3</th>\n",
       "      <td>RepDonBeyer</td>\n",
       "      <td>VA</td>\n",
       "      <td>Representative</td>\n",
       "      <td>Donald Beyer Jr</td>\n",
       "      <td>D</td>\n",
       "      <td>18325</td>\n",
       "      <td>9 Baltimore students were killed with guns dur...</td>\n",
       "      <td>7087050</td>\n",
       "      <td>7085835</td>\n",
       "      <td>7085835</td>\n",
       "      <td>6576425</td>\n",
       "    </tr>\n",
       "    <tr>\n",
       "      <th>4</th>\n",
       "      <td>WarrenDavidson</td>\n",
       "      <td>OH</td>\n",
       "      <td>Representative</td>\n",
       "      <td>Warren Davidson</td>\n",
       "      <td>R</td>\n",
       "      <td>3166</td>\n",
       "      <td>NetNeutralityReminder Obama used 1934 FCC rule...</td>\n",
       "      <td>958737</td>\n",
       "      <td>958292</td>\n",
       "      <td>958292</td>\n",
       "      <td>886492</td>\n",
       "    </tr>\n",
       "  </tbody>\n",
       "</table>\n",
       "</div>"
      ],
      "text/plain": [
       "      screen_name state        position                   name party  \\\n",
       "0     RepBarragan    CA  Representative  Nanette Diaz Barrag_n     D   \n",
       "1   ChrisMurphyCT    CT         Senator     Christopher Murphy     D   \n",
       "2     RepSwalwell    CA  Representative          Eric Swalwell     D   \n",
       "3     RepDonBeyer    VA  Representative        Donald Beyer Jr     D   \n",
       "4  WarrenDavidson    OH  Representative        Warren Davidson     R   \n",
       "\n",
       "   tweet_count                                        text_concat  \\\n",
       "0         4553  So great to welcome SenSanders to CA44 for a r...   \n",
       "1         8793  New apartments new businesses and new restaura...   \n",
       "2         5841  Literally the easiest fix we could make to sav...   \n",
       "3        18325  9 Baltimore students were killed with guns dur...   \n",
       "4         3166  NetNeutralityReminder Obama used 1934 FCC rule...   \n",
       "\n",
       "   text_length  text_length_1  text_length_2  text_length_3  \n",
       "0      1571519        1570974        1570974        1449495  \n",
       "1      2801192        2800624        2800624        2598814  \n",
       "2      1843540        1842810        1842810        1704609  \n",
       "3      7087050        7085835        7085835        6576425  \n",
       "4       958737         958292         958292         886492  "
      ]
     },
     "execution_count": 28,
     "metadata": {},
     "output_type": "execute_result"
    }
   ],
   "source": [
    "data.head(3)"
   ]
  },
  {
   "cell_type": "code",
   "execution_count": null,
   "id": "711ea005",
   "metadata": {},
   "outputs": [],
   "source": []
  },
  {
   "cell_type": "code",
   "execution_count": 36,
   "id": "783f8fee",
   "metadata": {},
   "outputs": [],
   "source": [
    "# Count the number of words for each user\n",
    "# HELP: https://stackoverflow.com/questions/37483470/how-to-calculate-number-of-words-in-a-string-in-dataframe\n",
    "\n",
    "data['word_length'] = data['text_concat'].str.split(' ').str.len()"
   ]
  },
  {
   "cell_type": "code",
   "execution_count": 37,
   "id": "0ed459a5",
   "metadata": {},
   "outputs": [
    {
     "data": {
      "text/html": [
       "<div>\n",
       "<style scoped>\n",
       "    .dataframe tbody tr th:only-of-type {\n",
       "        vertical-align: middle;\n",
       "    }\n",
       "\n",
       "    .dataframe tbody tr th {\n",
       "        vertical-align: top;\n",
       "    }\n",
       "\n",
       "    .dataframe thead th {\n",
       "        text-align: right;\n",
       "    }\n",
       "</style>\n",
       "<table border=\"1\" class=\"dataframe\">\n",
       "  <thead>\n",
       "    <tr style=\"text-align: right;\">\n",
       "      <th></th>\n",
       "      <th>screen_name</th>\n",
       "      <th>state</th>\n",
       "      <th>position</th>\n",
       "      <th>name</th>\n",
       "      <th>party</th>\n",
       "      <th>tweet_count</th>\n",
       "      <th>text_concat</th>\n",
       "      <th>text_length</th>\n",
       "      <th>text_length_1</th>\n",
       "      <th>text_length_2</th>\n",
       "      <th>text_length_3</th>\n",
       "      <th>word_length</th>\n",
       "    </tr>\n",
       "  </thead>\n",
       "  <tbody>\n",
       "    <tr>\n",
       "      <th>0</th>\n",
       "      <td>RepBarragan</td>\n",
       "      <td>CA</td>\n",
       "      <td>Representative</td>\n",
       "      <td>Nanette Diaz Barrag_n</td>\n",
       "      <td>D</td>\n",
       "      <td>4553</td>\n",
       "      <td>So great to welcome SenSanders to CA44 for a r...</td>\n",
       "      <td>1571519</td>\n",
       "      <td>1570974</td>\n",
       "      <td>1570974</td>\n",
       "      <td>1449495</td>\n",
       "      <td>180653</td>\n",
       "    </tr>\n",
       "    <tr>\n",
       "      <th>1</th>\n",
       "      <td>ChrisMurphyCT</td>\n",
       "      <td>CT</td>\n",
       "      <td>Senator</td>\n",
       "      <td>Christopher Murphy</td>\n",
       "      <td>D</td>\n",
       "      <td>8793</td>\n",
       "      <td>New apartments new businesses and new restaura...</td>\n",
       "      <td>2801192</td>\n",
       "      <td>2800624</td>\n",
       "      <td>2800624</td>\n",
       "      <td>2598814</td>\n",
       "      <td>352609</td>\n",
       "    </tr>\n",
       "    <tr>\n",
       "      <th>2</th>\n",
       "      <td>RepSwalwell</td>\n",
       "      <td>CA</td>\n",
       "      <td>Representative</td>\n",
       "      <td>Eric Swalwell</td>\n",
       "      <td>D</td>\n",
       "      <td>5841</td>\n",
       "      <td>Literally the easiest fix we could make to sav...</td>\n",
       "      <td>1843540</td>\n",
       "      <td>1842810</td>\n",
       "      <td>1842810</td>\n",
       "      <td>1704609</td>\n",
       "      <td>223536</td>\n",
       "    </tr>\n",
       "    <tr>\n",
       "      <th>3</th>\n",
       "      <td>RepDonBeyer</td>\n",
       "      <td>VA</td>\n",
       "      <td>Representative</td>\n",
       "      <td>Donald Beyer Jr</td>\n",
       "      <td>D</td>\n",
       "      <td>18325</td>\n",
       "      <td>9 Baltimore students were killed with guns dur...</td>\n",
       "      <td>7087050</td>\n",
       "      <td>7085835</td>\n",
       "      <td>7085835</td>\n",
       "      <td>6576425</td>\n",
       "      <td>839968</td>\n",
       "    </tr>\n",
       "    <tr>\n",
       "      <th>4</th>\n",
       "      <td>WarrenDavidson</td>\n",
       "      <td>OH</td>\n",
       "      <td>Representative</td>\n",
       "      <td>Warren Davidson</td>\n",
       "      <td>R</td>\n",
       "      <td>3166</td>\n",
       "      <td>NetNeutralityReminder Obama used 1934 FCC rule...</td>\n",
       "      <td>958737</td>\n",
       "      <td>958292</td>\n",
       "      <td>958292</td>\n",
       "      <td>886492</td>\n",
       "      <td>112053</td>\n",
       "    </tr>\n",
       "  </tbody>\n",
       "</table>\n",
       "</div>"
      ],
      "text/plain": [
       "      screen_name state        position                   name party  \\\n",
       "0     RepBarragan    CA  Representative  Nanette Diaz Barrag_n     D   \n",
       "1   ChrisMurphyCT    CT         Senator     Christopher Murphy     D   \n",
       "2     RepSwalwell    CA  Representative          Eric Swalwell     D   \n",
       "3     RepDonBeyer    VA  Representative        Donald Beyer Jr     D   \n",
       "4  WarrenDavidson    OH  Representative        Warren Davidson     R   \n",
       "\n",
       "   tweet_count                                        text_concat  \\\n",
       "0         4553  So great to welcome SenSanders to CA44 for a r...   \n",
       "1         8793  New apartments new businesses and new restaura...   \n",
       "2         5841  Literally the easiest fix we could make to sav...   \n",
       "3        18325  9 Baltimore students were killed with guns dur...   \n",
       "4         3166  NetNeutralityReminder Obama used 1934 FCC rule...   \n",
       "\n",
       "   text_length  text_length_1  text_length_2  text_length_3  word_length  \n",
       "0      1571519        1570974        1570974        1449495       180653  \n",
       "1      2801192        2800624        2800624        2598814       352609  \n",
       "2      1843540        1842810        1842810        1704609       223536  \n",
       "3      7087050        7085835        7085835        6576425       839968  \n",
       "4       958737         958292         958292         886492       112053  "
      ]
     },
     "execution_count": 37,
     "metadata": {},
     "output_type": "execute_result"
    }
   ],
   "source": [
    "data.head()"
   ]
  },
  {
   "cell_type": "code",
   "execution_count": 44,
   "id": "fa8c2ea5",
   "metadata": {},
   "outputs": [
    {
     "data": {
      "text/plain": [
       "count      626.000000\n",
       "mean      2384.752396\n",
       "std       2141.344896\n",
       "min          6.000000\n",
       "25%        949.250000\n",
       "50%       1890.000000\n",
       "75%       3164.500000\n",
       "max      18325.000000\n",
       "Name: tweet_count, dtype: float64"
      ]
     },
     "execution_count": 44,
     "metadata": {},
     "output_type": "execute_result"
    }
   ],
   "source": [
    "data['tweet_count'].describe()"
   ]
  },
  {
   "cell_type": "code",
   "execution_count": 43,
   "id": "6ce56efb",
   "metadata": {},
   "outputs": [
    {
     "data": {
      "text/plain": [
       "count       626.000000\n",
       "mean      88128.678914\n",
       "std       82571.864571\n",
       "min         227.000000\n",
       "25%       33350.000000\n",
       "50%       68001.000000\n",
       "75%      118017.250000\n",
       "max      839968.000000\n",
       "Name: word_length, dtype: float64"
      ]
     },
     "execution_count": 43,
     "metadata": {},
     "output_type": "execute_result"
    }
   ],
   "source": [
    "data['word_length'].describe()"
   ]
  },
  {
   "cell_type": "code",
   "execution_count": 45,
   "id": "6cc0f2b3",
   "metadata": {},
   "outputs": [
    {
     "data": {
      "text/plain": [
       "count    6.260000e+02\n",
       "mean     6.949572e+05\n",
       "std      6.524310e+05\n",
       "min      1.461000e+03\n",
       "25%      2.630642e+05\n",
       "50%      5.425705e+05\n",
       "75%      9.337525e+05\n",
       "max      6.576425e+06\n",
       "Name: text_length_3, dtype: float64"
      ]
     },
     "execution_count": 45,
     "metadata": {},
     "output_type": "execute_result"
    }
   ],
   "source": [
    "data['text_length_3'].describe()"
   ]
  },
  {
   "cell_type": "code",
   "execution_count": null,
   "id": "803a1b92",
   "metadata": {},
   "outputs": [],
   "source": []
  }
 ],
 "metadata": {
  "kernelspec": {
   "display_name": "Python 3",
   "language": "python",
   "name": "python3"
  },
  "language_info": {
   "codemirror_mode": {
    "name": "ipython",
    "version": 3
   },
   "file_extension": ".py",
   "mimetype": "text/x-python",
   "name": "python",
   "nbconvert_exporter": "python",
   "pygments_lexer": "ipython3",
   "version": "3.8.8"
  }
 },
 "nbformat": 4,
 "nbformat_minor": 5
}
