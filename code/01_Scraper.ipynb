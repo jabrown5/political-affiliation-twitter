{
 "cells": [
  {
   "cell_type": "code",
   "execution_count": null,
   "id": "premier-latter",
   "metadata": {},
   "outputs": [],
   "source": []
  },
  {
   "cell_type": "code",
   "execution_count": null,
   "id": "pleased-yahoo",
   "metadata": {},
   "outputs": [],
   "source": []
  },
  {
   "cell_type": "code",
   "execution_count": 9,
   "id": "latter-negative",
   "metadata": {},
   "outputs": [],
   "source": [
    "import pandas as pd\n",
    "import requests\n",
    "from bs4 import BeautifulSoup\n",
    "from datetime import datetime\n",
    "import time\n",
    "\n",
    "import random"
   ]
  },
  {
   "cell_type": "code",
   "execution_count": 10,
   "id": "explicit-rebel",
   "metadata": {},
   "outputs": [],
   "source": [
    "# Creating a list of dates to add to URL where tweets live\n",
    "# https://stackoverflow.com/questions/54527912/convert-a-list-of-datetime-objects-to-string-in-python\n",
    "datelist = pd.date_range(start=\"2020-01-03\",end=\"2021-01-03\")\n",
    "\n",
    "# Convert datetime to strings in order to be used in loop below\n",
    "datestrings = [d.strftime('%Y-%m-%d') for d in datelist]"
   ]
  },
  {
   "cell_type": "code",
   "execution_count": 11,
   "id": "dress-norway",
   "metadata": {},
   "outputs": [],
   "source": [
    "# datestrings"
   ]
  },
  {
   "cell_type": "code",
   "execution_count": null,
   "id": "common-engine",
   "metadata": {},
   "outputs": [],
   "source": [
    "\n",
    "# Set up empty dataframe to append tweets to \n",
    "tweet_df = pd.DataFrame()\n",
    "\n",
    "for date in datestrings:\n",
    "    url = f'https://raw.githubusercontent.com/alexlitel/congresstweets/master/data/{date}.json'\n",
    "    res = requests.get(url)\n",
    "    batch = res.json()\n",
    "    \n",
    "    # Temp dataframe for each loop to be appended to larger df\n",
    "    batch_df = pd.DataFrame.from_dict(pd.json_normalize(batch), orient='columns')\n",
    "\n",
    "    # appending each loops df to the larger tweet dataframe\n",
    "    tweet_df = pd.concat([batch_df, tweet_df], sort=False)\n",
    "    \n",
    "    # setting up loop to sleep for random time period between 3 and 7 seconds\n",
    "    # between each cycle\n",
    "    time.sleep(random.randint(3,7))\n"
   ]
  },
  {
   "cell_type": "code",
   "execution_count": null,
   "id": "stopped-value",
   "metadata": {},
   "outputs": [],
   "source": [
    "# tweet_df.head()"
   ]
  },
  {
   "cell_type": "code",
   "execution_count": null,
   "id": "western-appliance",
   "metadata": {},
   "outputs": [],
   "source": [
    "# tweet_df['text']"
   ]
  },
  {
   "cell_type": "code",
   "execution_count": null,
   "id": "reverse-virgin",
   "metadata": {},
   "outputs": [],
   "source": [
    "tweet_data = tweet_df.to_csv('../data/tweet_df_2020.csv', index = True)\n"
   ]
  },
  {
   "cell_type": "code",
   "execution_count": null,
   "id": "analyzed-treasurer",
   "metadata": {},
   "outputs": [],
   "source": []
  },
  {
   "cell_type": "code",
   "execution_count": null,
   "id": "actual-textbook",
   "metadata": {},
   "outputs": [],
   "source": []
  }
 ],
 "metadata": {
  "kernelspec": {
   "display_name": "Python 3",
   "language": "python",
   "name": "python3"
  },
  "language_info": {
   "codemirror_mode": {
    "name": "ipython",
    "version": 3
   },
   "file_extension": ".py",
   "mimetype": "text/x-python",
   "name": "python",
   "nbconvert_exporter": "python",
   "pygments_lexer": "ipython3",
   "version": "3.8.8"
  }
 },
 "nbformat": 4,
 "nbformat_minor": 5
}
