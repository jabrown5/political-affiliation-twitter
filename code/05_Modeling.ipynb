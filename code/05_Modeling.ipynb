{
  "nbformat": 4,
  "nbformat_minor": 0,
  "metadata": {
    "colab": {
      "name": "05_Modeling.ipynb",
      "provenance": [],
      "collapsed_sections": [],
      "machine_shape": "hm"
    },
    "kernelspec": {
      "name": "python3",
      "display_name": "Python 3"
    },
    "language_info": {
      "name": "python"
    },
    "accelerator": "GPU"
  },
  "cells": [
    {
      "cell_type": "code",
      "metadata": {
        "id": "_DUdAN6Xv6OU"
      },
      "source": [
        ""
      ],
      "execution_count": null,
      "outputs": []
    },
    {
      "cell_type": "code",
      "metadata": {
        "colab": {
          "base_uri": "https://localhost:8080/"
        },
        "id": "XUK-nVawvTpX",
        "outputId": "28e5e545-cfff-46b3-f709-feca8cd08233"
      },
      "source": [
        "# Checking to see if GPU drive is active\n",
        "gpu_info = !nvidia-smi\n",
        "gpu_info = '\\n'.join(gpu_info)\n",
        "if gpu_info.find('failed') >= 0:\n",
        "  print('Select the Runtime > \"Change runtime type\" menu to enable a GPU accelerator, ')\n",
        "  print('and then re-execute this cell.')\n",
        "else:\n",
        "  print(gpu_info)"
      ],
      "execution_count": null,
      "outputs": [
        {
          "output_type": "stream",
          "text": [
            "Sun Apr 25 16:04:17 2021       \n",
            "+-----------------------------------------------------------------------------+\n",
            "| NVIDIA-SMI 465.19.01    Driver Version: 460.32.03    CUDA Version: 11.2     |\n",
            "|-------------------------------+----------------------+----------------------+\n",
            "| GPU  Name        Persistence-M| Bus-Id        Disp.A | Volatile Uncorr. ECC |\n",
            "| Fan  Temp  Perf  Pwr:Usage/Cap|         Memory-Usage | GPU-Util  Compute M. |\n",
            "|                               |                      |               MIG M. |\n",
            "|===============================+======================+======================|\n",
            "|   0  Tesla P100-PCIE...  Off  | 00000000:00:04.0 Off |                    0 |\n",
            "| N/A   35C    P0    26W / 250W |      0MiB / 16280MiB |      0%      Default |\n",
            "|                               |                      |                  N/A |\n",
            "+-------------------------------+----------------------+----------------------+\n",
            "                                                                               \n",
            "+-----------------------------------------------------------------------------+\n",
            "| Processes:                                                                  |\n",
            "|  GPU   GI   CI        PID   Type   Process name                  GPU Memory |\n",
            "|        ID   ID                                                   Usage      |\n",
            "|=============================================================================|\n",
            "|  No running processes found                                                 |\n",
            "+-----------------------------------------------------------------------------+\n"
          ],
          "name": "stdout"
        }
      ]
    },
    {
      "cell_type": "code",
      "metadata": {
        "colab": {
          "base_uri": "https://localhost:8080/"
        },
        "id": "dGwkyfn-vsS1",
        "outputId": "ae18bdd0-c3e0-424a-84d8-1d2ebb99d1b9"
      },
      "source": [
        "# Checking to see if GPU drive is active\n",
        "from psutil import virtual_memory\n",
        "ram_gb = virtual_memory().total / 1e9\n",
        "print('Your runtime has {:.1f} gigabytes of available RAM\\n'.format(ram_gb))\n",
        "\n",
        "if ram_gb < 20:\n",
        "  print('To enable a high-RAM runtime, select the Runtime > \"Change runtime type\"')\n",
        "  print('menu, and then select High-RAM in the Runtime shape dropdown. Then, ')\n",
        "  print('re-execute this cell.')\n",
        "else:\n",
        "  print('You are using a high-RAM runtime!')"
      ],
      "execution_count": null,
      "outputs": [
        {
          "output_type": "stream",
          "text": [
            "Your runtime has 27.4 gigabytes of available RAM\n",
            "\n",
            "You are using a high-RAM runtime!\n"
          ],
          "name": "stdout"
        }
      ]
    },
    {
      "cell_type": "code",
      "metadata": {
        "colab": {
          "base_uri": "https://localhost:8080/"
        },
        "id": "MB0qRanbv6Fh",
        "outputId": "bd5a8a01-57a6-4511-d1e7-73acef293ea0"
      },
      "source": [
        "# If running in google colab:\n",
        "from google.colab import drive\n",
        "drive.mount('/content/drive/', force_remount=True)"
      ],
      "execution_count": 1,
      "outputs": [
        {
          "output_type": "stream",
          "text": [
            "Mounted at /content/drive/\n"
          ],
          "name": "stdout"
        }
      ]
    },
    {
      "cell_type": "code",
      "metadata": {
        "colab": {
          "base_uri": "https://localhost:8080/"
        },
        "id": "vvzWSbg5v5HF",
        "outputId": "a737572f-8159-4c3e-d12a-ae5389d89068"
      },
      "source": [
        "# Download en_core_web_lg for google colab\n",
        "!python -m spacy download en_core_web_lg"
      ],
      "execution_count": 2,
      "outputs": [
        {
          "output_type": "stream",
          "text": [
            "Collecting en_core_web_lg==2.2.5\n",
            "\u001b[?25l  Downloading https://github.com/explosion/spacy-models/releases/download/en_core_web_lg-2.2.5/en_core_web_lg-2.2.5.tar.gz (827.9MB)\n",
            "\u001b[K     |████████████████████████████████| 827.9MB 1.1MB/s \n",
            "\u001b[?25hRequirement already satisfied: spacy>=2.2.2 in /usr/local/lib/python3.7/dist-packages (from en_core_web_lg==2.2.5) (2.2.4)\n",
            "Requirement already satisfied: numpy>=1.15.0 in /usr/local/lib/python3.7/dist-packages (from spacy>=2.2.2->en_core_web_lg==2.2.5) (1.19.5)\n",
            "Requirement already satisfied: murmurhash<1.1.0,>=0.28.0 in /usr/local/lib/python3.7/dist-packages (from spacy>=2.2.2->en_core_web_lg==2.2.5) (1.0.5)\n",
            "Requirement already satisfied: srsly<1.1.0,>=1.0.2 in /usr/local/lib/python3.7/dist-packages (from spacy>=2.2.2->en_core_web_lg==2.2.5) (1.0.5)\n",
            "Requirement already satisfied: requests<3.0.0,>=2.13.0 in /usr/local/lib/python3.7/dist-packages (from spacy>=2.2.2->en_core_web_lg==2.2.5) (2.23.0)\n",
            "Requirement already satisfied: cymem<2.1.0,>=2.0.2 in /usr/local/lib/python3.7/dist-packages (from spacy>=2.2.2->en_core_web_lg==2.2.5) (2.0.5)\n",
            "Requirement already satisfied: blis<0.5.0,>=0.4.0 in /usr/local/lib/python3.7/dist-packages (from spacy>=2.2.2->en_core_web_lg==2.2.5) (0.4.1)\n",
            "Requirement already satisfied: thinc==7.4.0 in /usr/local/lib/python3.7/dist-packages (from spacy>=2.2.2->en_core_web_lg==2.2.5) (7.4.0)\n",
            "Requirement already satisfied: catalogue<1.1.0,>=0.0.7 in /usr/local/lib/python3.7/dist-packages (from spacy>=2.2.2->en_core_web_lg==2.2.5) (1.0.0)\n",
            "Requirement already satisfied: preshed<3.1.0,>=3.0.2 in /usr/local/lib/python3.7/dist-packages (from spacy>=2.2.2->en_core_web_lg==2.2.5) (3.0.5)\n",
            "Requirement already satisfied: setuptools in /usr/local/lib/python3.7/dist-packages (from spacy>=2.2.2->en_core_web_lg==2.2.5) (56.0.0)\n",
            "Requirement already satisfied: tqdm<5.0.0,>=4.38.0 in /usr/local/lib/python3.7/dist-packages (from spacy>=2.2.2->en_core_web_lg==2.2.5) (4.41.1)\n",
            "Requirement already satisfied: plac<1.2.0,>=0.9.6 in /usr/local/lib/python3.7/dist-packages (from spacy>=2.2.2->en_core_web_lg==2.2.5) (1.1.3)\n",
            "Requirement already satisfied: wasabi<1.1.0,>=0.4.0 in /usr/local/lib/python3.7/dist-packages (from spacy>=2.2.2->en_core_web_lg==2.2.5) (0.8.2)\n",
            "Requirement already satisfied: idna<3,>=2.5 in /usr/local/lib/python3.7/dist-packages (from requests<3.0.0,>=2.13.0->spacy>=2.2.2->en_core_web_lg==2.2.5) (2.10)\n",
            "Requirement already satisfied: chardet<4,>=3.0.2 in /usr/local/lib/python3.7/dist-packages (from requests<3.0.0,>=2.13.0->spacy>=2.2.2->en_core_web_lg==2.2.5) (3.0.4)\n",
            "Requirement already satisfied: certifi>=2017.4.17 in /usr/local/lib/python3.7/dist-packages (from requests<3.0.0,>=2.13.0->spacy>=2.2.2->en_core_web_lg==2.2.5) (2020.12.5)\n",
            "Requirement already satisfied: urllib3!=1.25.0,!=1.25.1,<1.26,>=1.21.1 in /usr/local/lib/python3.7/dist-packages (from requests<3.0.0,>=2.13.0->spacy>=2.2.2->en_core_web_lg==2.2.5) (1.24.3)\n",
            "Requirement already satisfied: importlib-metadata>=0.20; python_version < \"3.8\" in /usr/local/lib/python3.7/dist-packages (from catalogue<1.1.0,>=0.0.7->spacy>=2.2.2->en_core_web_lg==2.2.5) (3.10.1)\n",
            "Requirement already satisfied: typing-extensions>=3.6.4; python_version < \"3.8\" in /usr/local/lib/python3.7/dist-packages (from importlib-metadata>=0.20; python_version < \"3.8\"->catalogue<1.1.0,>=0.0.7->spacy>=2.2.2->en_core_web_lg==2.2.5) (3.7.4.3)\n",
            "Requirement already satisfied: zipp>=0.5 in /usr/local/lib/python3.7/dist-packages (from importlib-metadata>=0.20; python_version < \"3.8\"->catalogue<1.1.0,>=0.0.7->spacy>=2.2.2->en_core_web_lg==2.2.5) (3.4.1)\n",
            "Building wheels for collected packages: en-core-web-lg\n",
            "  Building wheel for en-core-web-lg (setup.py) ... \u001b[?25l\u001b[?25hdone\n",
            "  Created wheel for en-core-web-lg: filename=en_core_web_lg-2.2.5-cp37-none-any.whl size=829180944 sha256=14ac135795fb0c964288590b53c93dfc6a065dc7a8f5aff67c9a2d2ecf138b41\n",
            "  Stored in directory: /tmp/pip-ephem-wheel-cache-zugwoddg/wheels/2a/c1/a6/fc7a877b1efca9bc6a089d6f506f16d3868408f9ff89f8dbfc\n",
            "Successfully built en-core-web-lg\n",
            "Installing collected packages: en-core-web-lg\n",
            "Successfully installed en-core-web-lg-2.2.5\n",
            "\u001b[38;5;2m✔ Download and installation successful\u001b[0m\n",
            "You can now load the model via spacy.load('en_core_web_lg')\n"
          ],
          "name": "stdout"
        }
      ]
    },
    {
      "cell_type": "code",
      "metadata": {
        "id": "LowcVnUOv4-S"
      },
      "source": [
        "# Imports\n",
        "import numpy as np\n",
        "import pandas as pd\n",
        "import seaborn as sns\n",
        "import matplotlib.pyplot as plt\n",
        "\n",
        "# import regex as re\n",
        "# import unicodedata\n",
        "\n",
        "from sklearn.feature_extraction.text import CountVectorizer\n",
        "from sklearn.model_selection import GridSearchCV\n",
        "from sklearn.cluster import DBSCAN, KMeans\n",
        "from sklearn.metrics import silhouette_score, pairwise_distances\n",
        "\n",
        "import spacy\n",
        "import en_core_web_lg\n",
        "from spacy.lang.en import English\n",
        "from spacy.lang.en.stop_words import STOP_WORDS\n",
        "\n",
        "pd.set_option('display.max_columns', None)\n",
        "pd.set_option('display.max_rows', None)"
      ],
      "execution_count": 3,
      "outputs": []
    },
    {
      "cell_type": "code",
      "metadata": {
        "id": "YVawHgaX2Va9"
      },
      "source": [
        "# Loading the large (sm) spaCy English model, pre-trained on web text data\n",
        "# In order to use vectorization, you must use the large pipeline package\n",
        "# https://spacy.io/usage/spacy-101\n",
        "'''\n",
        "\"To make them compact and fast, spaCy’s small pipeline packages (all packages that end in sm) \n",
        "don’t ship with word vectors, and only include context-sensitive tensors... \n",
        "So in order to use real word vectors, you need to download a larger pipeline package.\"\n",
        "'''\n",
        "nlp = en_core_web_lg.load()\n",
        "\n",
        "# max length must be increased due to large size of each document\n",
        "nlp.max_length = 10000000 # or higher"
      ],
      "execution_count": 4,
      "outputs": []
    },
    {
      "cell_type": "code",
      "metadata": {
        "id": "I8DZU6lkwuRt"
      },
      "source": [
        "# # Importing the finalized concatinated dataframe\n",
        "# # Use this line if running locally\n",
        "# data = pd.read_csv('../data/tweet_vectors.csv')\n",
        "\n",
        "# If running in google colab, use this import line:\n",
        "# Change to file location if necessary\n",
        "# data = pd.read_csv('/content/drive/MyDrive/Python/tweet_vectors_1.csv')\n",
        "\n",
        "data1 = pd.read_json('/content/drive/MyDrive/Python/tweet_vectors_1.json')\n",
        "data2 = pd.read_json('/content/drive/MyDrive/Python/tweet_vectors_2.json')\n",
        "data3 = pd.read_json('/content/drive/MyDrive/Python/tweet_vectors_3.json')\n",
        "data4 = pd.read_json('/content/drive/MyDrive/Python/tweet_vectors_4.json')\n"
      ],
      "execution_count": 6,
      "outputs": []
    },
    {
      "cell_type": "code",
      "metadata": {
        "colab": {
          "base_uri": "https://localhost:8080/",
          "height": 411
        },
        "id": "7zKHpc7OmV6O",
        "outputId": "ae02f6cd-cf8c-4041-8bc2-319de4c7cc93"
      },
      "source": [
        "data1.head()"
      ],
      "execution_count": 8,
      "outputs": [
        {
          "output_type": "execute_result",
          "data": {
            "text/html": [
              "<div>\n",
              "<style scoped>\n",
              "    .dataframe tbody tr th:only-of-type {\n",
              "        vertical-align: middle;\n",
              "    }\n",
              "\n",
              "    .dataframe tbody tr th {\n",
              "        vertical-align: top;\n",
              "    }\n",
              "\n",
              "    .dataframe thead th {\n",
              "        text-align: right;\n",
              "    }\n",
              "</style>\n",
              "<table border=\"1\" class=\"dataframe\">\n",
              "  <thead>\n",
              "    <tr style=\"text-align: right;\">\n",
              "      <th></th>\n",
              "      <th>Unnamed: 0</th>\n",
              "      <th>screen_name</th>\n",
              "      <th>state</th>\n",
              "      <th>position</th>\n",
              "      <th>name</th>\n",
              "      <th>party</th>\n",
              "      <th>tweet_count</th>\n",
              "      <th>text_concat</th>\n",
              "      <th>text_length</th>\n",
              "      <th>text_length_1</th>\n",
              "      <th>text_length_2</th>\n",
              "      <th>text_length_3</th>\n",
              "      <th>word_length</th>\n",
              "      <th>text_concat_clean</th>\n",
              "      <th>liststring</th>\n",
              "      <th>vectors</th>\n",
              "    </tr>\n",
              "  </thead>\n",
              "  <tbody>\n",
              "    <tr>\n",
              "      <th>0</th>\n",
              "      <td>0</td>\n",
              "      <td>RepBarragan</td>\n",
              "      <td>CA</td>\n",
              "      <td>Representative</td>\n",
              "      <td>Nanette Diaz Barrag_n</td>\n",
              "      <td>D</td>\n",
              "      <td>4553</td>\n",
              "      <td>So great to welcome SenSanders to CA44 for a r...</td>\n",
              "      <td>1571519</td>\n",
              "      <td>1570974</td>\n",
              "      <td>1570974</td>\n",
              "      <td>1449495</td>\n",
              "      <td>180653</td>\n",
              "      <td>['great', 'welcome', 'SenSanders', 'CA44', 'ra...</td>\n",
              "      <td>'great' 'welcome' 'SenSanders' 'CA44' 'rally' ...</td>\n",
              "      <td>[-0.19524726380000001, 0.3918217854, 0.0493305...</td>\n",
              "    </tr>\n",
              "    <tr>\n",
              "      <th>1</th>\n",
              "      <td>1</td>\n",
              "      <td>ChrisMurphyCT</td>\n",
              "      <td>CT</td>\n",
              "      <td>Senator</td>\n",
              "      <td>Christopher Murphy</td>\n",
              "      <td>D</td>\n",
              "      <td>8793</td>\n",
              "      <td>New apartments new businesses and new restaura...</td>\n",
              "      <td>2801192</td>\n",
              "      <td>2800624</td>\n",
              "      <td>2800624</td>\n",
              "      <td>2598814</td>\n",
              "      <td>352609</td>\n",
              "      <td>['new', 'apartment', 'new', 'business', 'new',...</td>\n",
              "      <td>'new' 'apartment' 'new' 'business' 'new' 'rest...</td>\n",
              "      <td>[-0.2074928593, 0.3944523199, 0.0484009482, -0...</td>\n",
              "    </tr>\n",
              "    <tr>\n",
              "      <th>2</th>\n",
              "      <td>2</td>\n",
              "      <td>RepSwalwell</td>\n",
              "      <td>CA</td>\n",
              "      <td>Representative</td>\n",
              "      <td>Eric Swalwell</td>\n",
              "      <td>D</td>\n",
              "      <td>5841</td>\n",
              "      <td>Literally the easiest fix we could make to sav...</td>\n",
              "      <td>1843540</td>\n",
              "      <td>1842810</td>\n",
              "      <td>1842810</td>\n",
              "      <td>1704609</td>\n",
              "      <td>223536</td>\n",
              "      <td>['literally', 'easy', 'fix', 'save', 'life', '...</td>\n",
              "      <td>'literally' 'easy' 'fix' 'save' 'life' 'httpab...</td>\n",
              "      <td>[-0.2089821815, 0.39251183640000004, 0.0458777...</td>\n",
              "    </tr>\n",
              "    <tr>\n",
              "      <th>3</th>\n",
              "      <td>3</td>\n",
              "      <td>RepDonBeyer</td>\n",
              "      <td>VA</td>\n",
              "      <td>Representative</td>\n",
              "      <td>Donald Beyer Jr</td>\n",
              "      <td>D</td>\n",
              "      <td>18325</td>\n",
              "      <td>9 Baltimore students were killed with guns dur...</td>\n",
              "      <td>7087050</td>\n",
              "      <td>7085835</td>\n",
              "      <td>7085835</td>\n",
              "      <td>6576425</td>\n",
              "      <td>839968</td>\n",
              "      <td>['Baltimore', 'student', 'kill', 'gun', 'schoo...</td>\n",
              "      <td>'Baltimore' 'student' 'kill' 'gun' 'school' 'y...</td>\n",
              "      <td>[-0.21396224300000002, 0.3897273741, 0.0522410...</td>\n",
              "    </tr>\n",
              "    <tr>\n",
              "      <th>4</th>\n",
              "      <td>4</td>\n",
              "      <td>WarrenDavidson</td>\n",
              "      <td>OH</td>\n",
              "      <td>Representative</td>\n",
              "      <td>Warren Davidson</td>\n",
              "      <td>R</td>\n",
              "      <td>3166</td>\n",
              "      <td>NetNeutralityReminder Obama used 1934 FCC rule...</td>\n",
              "      <td>958737</td>\n",
              "      <td>958292</td>\n",
              "      <td>958292</td>\n",
              "      <td>886492</td>\n",
              "      <td>112053</td>\n",
              "      <td>['netneutralityreminder', 'Obama', 'FCC', 'rul...</td>\n",
              "      <td>'netneutralityreminder' 'Obama' 'FCC' 'rule' '...</td>\n",
              "      <td>[-0.20934589990000002, 0.39374101650000004, 0....</td>\n",
              "    </tr>\n",
              "  </tbody>\n",
              "</table>\n",
              "</div>"
            ],
            "text/plain": [
              "   Unnamed: 0     screen_name state        position                   name  \\\n",
              "0           0     RepBarragan    CA  Representative  Nanette Diaz Barrag_n   \n",
              "1           1   ChrisMurphyCT    CT         Senator     Christopher Murphy   \n",
              "2           2     RepSwalwell    CA  Representative          Eric Swalwell   \n",
              "3           3     RepDonBeyer    VA  Representative        Donald Beyer Jr   \n",
              "4           4  WarrenDavidson    OH  Representative        Warren Davidson   \n",
              "\n",
              "  party  tweet_count                                        text_concat  \\\n",
              "0     D         4553  So great to welcome SenSanders to CA44 for a r...   \n",
              "1     D         8793  New apartments new businesses and new restaura...   \n",
              "2     D         5841  Literally the easiest fix we could make to sav...   \n",
              "3     D        18325  9 Baltimore students were killed with guns dur...   \n",
              "4     R         3166  NetNeutralityReminder Obama used 1934 FCC rule...   \n",
              "\n",
              "   text_length  text_length_1  text_length_2  text_length_3  word_length  \\\n",
              "0      1571519        1570974        1570974        1449495       180653   \n",
              "1      2801192        2800624        2800624        2598814       352609   \n",
              "2      1843540        1842810        1842810        1704609       223536   \n",
              "3      7087050        7085835        7085835        6576425       839968   \n",
              "4       958737         958292         958292         886492       112053   \n",
              "\n",
              "                                   text_concat_clean  \\\n",
              "0  ['great', 'welcome', 'SenSanders', 'CA44', 'ra...   \n",
              "1  ['new', 'apartment', 'new', 'business', 'new',...   \n",
              "2  ['literally', 'easy', 'fix', 'save', 'life', '...   \n",
              "3  ['Baltimore', 'student', 'kill', 'gun', 'schoo...   \n",
              "4  ['netneutralityreminder', 'Obama', 'FCC', 'rul...   \n",
              "\n",
              "                                          liststring  \\\n",
              "0  'great' 'welcome' 'SenSanders' 'CA44' 'rally' ...   \n",
              "1  'new' 'apartment' 'new' 'business' 'new' 'rest...   \n",
              "2  'literally' 'easy' 'fix' 'save' 'life' 'httpab...   \n",
              "3  'Baltimore' 'student' 'kill' 'gun' 'school' 'y...   \n",
              "4  'netneutralityreminder' 'Obama' 'FCC' 'rule' '...   \n",
              "\n",
              "                                             vectors  \n",
              "0  [-0.19524726380000001, 0.3918217854, 0.0493305...  \n",
              "1  [-0.2074928593, 0.3944523199, 0.0484009482, -0...  \n",
              "2  [-0.2089821815, 0.39251183640000004, 0.0458777...  \n",
              "3  [-0.21396224300000002, 0.3897273741, 0.0522410...  \n",
              "4  [-0.20934589990000002, 0.39374101650000004, 0....  "
            ]
          },
          "metadata": {
            "tags": []
          },
          "execution_count": 8
        }
      ]
    },
    {
      "cell_type": "code",
      "metadata": {
        "colab": {
          "base_uri": "https://localhost:8080/",
          "height": 383
        },
        "id": "JozTClTxk7be",
        "outputId": "f1cef2d5-8ba0-4981-eea4-a85dc2b2dd92"
      },
      "source": [
        "data = pd.concat([data1, data2, data3, data4], axis=0, sort=False)\n",
        "\n",
        "# data = data.drop_duplicates()\n",
        "\n",
        "data.head(3)"
      ],
      "execution_count": 10,
      "outputs": [
        {
          "output_type": "execute_result",
          "data": {
            "text/html": [
              "<div>\n",
              "<style scoped>\n",
              "    .dataframe tbody tr th:only-of-type {\n",
              "        vertical-align: middle;\n",
              "    }\n",
              "\n",
              "    .dataframe tbody tr th {\n",
              "        vertical-align: top;\n",
              "    }\n",
              "\n",
              "    .dataframe thead th {\n",
              "        text-align: right;\n",
              "    }\n",
              "</style>\n",
              "<table border=\"1\" class=\"dataframe\">\n",
              "  <thead>\n",
              "    <tr style=\"text-align: right;\">\n",
              "      <th></th>\n",
              "      <th>Unnamed: 0</th>\n",
              "      <th>screen_name</th>\n",
              "      <th>state</th>\n",
              "      <th>position</th>\n",
              "      <th>name</th>\n",
              "      <th>party</th>\n",
              "      <th>tweet_count</th>\n",
              "      <th>text_concat</th>\n",
              "      <th>text_length</th>\n",
              "      <th>text_length_1</th>\n",
              "      <th>text_length_2</th>\n",
              "      <th>text_length_3</th>\n",
              "      <th>word_length</th>\n",
              "      <th>text_concat_clean</th>\n",
              "      <th>liststring</th>\n",
              "      <th>vectors</th>\n",
              "    </tr>\n",
              "  </thead>\n",
              "  <tbody>\n",
              "    <tr>\n",
              "      <th>0</th>\n",
              "      <td>0</td>\n",
              "      <td>RepBarragan</td>\n",
              "      <td>CA</td>\n",
              "      <td>Representative</td>\n",
              "      <td>Nanette Diaz Barrag_n</td>\n",
              "      <td>D</td>\n",
              "      <td>4553</td>\n",
              "      <td>So great to welcome SenSanders to CA44 for a r...</td>\n",
              "      <td>1571519</td>\n",
              "      <td>1570974</td>\n",
              "      <td>1570974</td>\n",
              "      <td>1449495</td>\n",
              "      <td>180653</td>\n",
              "      <td>['great', 'welcome', 'SenSanders', 'CA44', 'ra...</td>\n",
              "      <td>'great' 'welcome' 'SenSanders' 'CA44' 'rally' ...</td>\n",
              "      <td>[-0.19524726380000001, 0.3918217854, 0.0493305...</td>\n",
              "    </tr>\n",
              "    <tr>\n",
              "      <th>1</th>\n",
              "      <td>1</td>\n",
              "      <td>ChrisMurphyCT</td>\n",
              "      <td>CT</td>\n",
              "      <td>Senator</td>\n",
              "      <td>Christopher Murphy</td>\n",
              "      <td>D</td>\n",
              "      <td>8793</td>\n",
              "      <td>New apartments new businesses and new restaura...</td>\n",
              "      <td>2801192</td>\n",
              "      <td>2800624</td>\n",
              "      <td>2800624</td>\n",
              "      <td>2598814</td>\n",
              "      <td>352609</td>\n",
              "      <td>['new', 'apartment', 'new', 'business', 'new',...</td>\n",
              "      <td>'new' 'apartment' 'new' 'business' 'new' 'rest...</td>\n",
              "      <td>[-0.2074928593, 0.3944523199, 0.0484009482, -0...</td>\n",
              "    </tr>\n",
              "    <tr>\n",
              "      <th>2</th>\n",
              "      <td>2</td>\n",
              "      <td>RepSwalwell</td>\n",
              "      <td>CA</td>\n",
              "      <td>Representative</td>\n",
              "      <td>Eric Swalwell</td>\n",
              "      <td>D</td>\n",
              "      <td>5841</td>\n",
              "      <td>Literally the easiest fix we could make to sav...</td>\n",
              "      <td>1843540</td>\n",
              "      <td>1842810</td>\n",
              "      <td>1842810</td>\n",
              "      <td>1704609</td>\n",
              "      <td>223536</td>\n",
              "      <td>['literally', 'easy', 'fix', 'save', 'life', '...</td>\n",
              "      <td>'literally' 'easy' 'fix' 'save' 'life' 'httpab...</td>\n",
              "      <td>[-0.2089821815, 0.39251183640000004, 0.0458777...</td>\n",
              "    </tr>\n",
              "  </tbody>\n",
              "</table>\n",
              "</div>"
            ],
            "text/plain": [
              "   Unnamed: 0    screen_name state        position                   name  \\\n",
              "0           0    RepBarragan    CA  Representative  Nanette Diaz Barrag_n   \n",
              "1           1  ChrisMurphyCT    CT         Senator     Christopher Murphy   \n",
              "2           2    RepSwalwell    CA  Representative          Eric Swalwell   \n",
              "\n",
              "  party  tweet_count                                        text_concat  \\\n",
              "0     D         4553  So great to welcome SenSanders to CA44 for a r...   \n",
              "1     D         8793  New apartments new businesses and new restaura...   \n",
              "2     D         5841  Literally the easiest fix we could make to sav...   \n",
              "\n",
              "   text_length  text_length_1  text_length_2  text_length_3  word_length  \\\n",
              "0      1571519        1570974        1570974        1449495       180653   \n",
              "1      2801192        2800624        2800624        2598814       352609   \n",
              "2      1843540        1842810        1842810        1704609       223536   \n",
              "\n",
              "                                   text_concat_clean  \\\n",
              "0  ['great', 'welcome', 'SenSanders', 'CA44', 'ra...   \n",
              "1  ['new', 'apartment', 'new', 'business', 'new',...   \n",
              "2  ['literally', 'easy', 'fix', 'save', 'life', '...   \n",
              "\n",
              "                                          liststring  \\\n",
              "0  'great' 'welcome' 'SenSanders' 'CA44' 'rally' ...   \n",
              "1  'new' 'apartment' 'new' 'business' 'new' 'rest...   \n",
              "2  'literally' 'easy' 'fix' 'save' 'life' 'httpab...   \n",
              "\n",
              "                                             vectors  \n",
              "0  [-0.19524726380000001, 0.3918217854, 0.0493305...  \n",
              "1  [-0.2074928593, 0.3944523199, 0.0484009482, -0...  \n",
              "2  [-0.2089821815, 0.39251183640000004, 0.0458777...  "
            ]
          },
          "metadata": {
            "tags": []
          },
          "execution_count": 10
        }
      ]
    },
    {
      "cell_type": "code",
      "metadata": {
        "id": "q34m1EkFwuID"
      },
      "source": [
        "# keeping only certain columns that will be used\n",
        "columns_keep =['screen_name','state','position','name','party','tweet_count','vectors']\n",
        "\n",
        "data = data[columns_keep]"
      ],
      "execution_count": 11,
      "outputs": []
    },
    {
      "cell_type": "code",
      "metadata": {
        "colab": {
          "base_uri": "https://localhost:8080/",
          "height": 142
        },
        "id": "KWcgEP_RvsB6",
        "outputId": "a08ed554-ff2a-41e5-d357-d7dd8d193cbb"
      },
      "source": [
        "data.head(3)"
      ],
      "execution_count": 12,
      "outputs": [
        {
          "output_type": "execute_result",
          "data": {
            "text/html": [
              "<div>\n",
              "<style scoped>\n",
              "    .dataframe tbody tr th:only-of-type {\n",
              "        vertical-align: middle;\n",
              "    }\n",
              "\n",
              "    .dataframe tbody tr th {\n",
              "        vertical-align: top;\n",
              "    }\n",
              "\n",
              "    .dataframe thead th {\n",
              "        text-align: right;\n",
              "    }\n",
              "</style>\n",
              "<table border=\"1\" class=\"dataframe\">\n",
              "  <thead>\n",
              "    <tr style=\"text-align: right;\">\n",
              "      <th></th>\n",
              "      <th>screen_name</th>\n",
              "      <th>state</th>\n",
              "      <th>position</th>\n",
              "      <th>name</th>\n",
              "      <th>party</th>\n",
              "      <th>tweet_count</th>\n",
              "      <th>vectors</th>\n",
              "    </tr>\n",
              "  </thead>\n",
              "  <tbody>\n",
              "    <tr>\n",
              "      <th>0</th>\n",
              "      <td>RepBarragan</td>\n",
              "      <td>CA</td>\n",
              "      <td>Representative</td>\n",
              "      <td>Nanette Diaz Barrag_n</td>\n",
              "      <td>D</td>\n",
              "      <td>4553</td>\n",
              "      <td>[-0.19524726380000001, 0.3918217854, 0.0493305...</td>\n",
              "    </tr>\n",
              "    <tr>\n",
              "      <th>1</th>\n",
              "      <td>ChrisMurphyCT</td>\n",
              "      <td>CT</td>\n",
              "      <td>Senator</td>\n",
              "      <td>Christopher Murphy</td>\n",
              "      <td>D</td>\n",
              "      <td>8793</td>\n",
              "      <td>[-0.2074928593, 0.3944523199, 0.0484009482, -0...</td>\n",
              "    </tr>\n",
              "    <tr>\n",
              "      <th>2</th>\n",
              "      <td>RepSwalwell</td>\n",
              "      <td>CA</td>\n",
              "      <td>Representative</td>\n",
              "      <td>Eric Swalwell</td>\n",
              "      <td>D</td>\n",
              "      <td>5841</td>\n",
              "      <td>[-0.2089821815, 0.39251183640000004, 0.0458777...</td>\n",
              "    </tr>\n",
              "  </tbody>\n",
              "</table>\n",
              "</div>"
            ],
            "text/plain": [
              "     screen_name state        position                   name party  \\\n",
              "0    RepBarragan    CA  Representative  Nanette Diaz Barrag_n     D   \n",
              "1  ChrisMurphyCT    CT         Senator     Christopher Murphy     D   \n",
              "2    RepSwalwell    CA  Representative          Eric Swalwell     D   \n",
              "\n",
              "   tweet_count                                            vectors  \n",
              "0         4553  [-0.19524726380000001, 0.3918217854, 0.0493305...  \n",
              "1         8793  [-0.2074928593, 0.3944523199, 0.0484009482, -0...  \n",
              "2         5841  [-0.2089821815, 0.39251183640000004, 0.0458777...  "
            ]
          },
          "metadata": {
            "tags": []
          },
          "execution_count": 12
        }
      ]
    },
    {
      "cell_type": "code",
      "metadata": {
        "colab": {
          "base_uri": "https://localhost:8080/"
        },
        "id": "0zS8UqyJB88n",
        "outputId": "d6e8150d-d2c2-4d38-94e8-6d1d11868630"
      },
      "source": [
        "data.info()"
      ],
      "execution_count": 13,
      "outputs": [
        {
          "output_type": "stream",
          "text": [
            "<class 'pandas.core.frame.DataFrame'>\n",
            "Int64Index: 623 entries, 0 to 151\n",
            "Data columns (total 7 columns):\n",
            " #   Column       Non-Null Count  Dtype \n",
            "---  ------       --------------  ----- \n",
            " 0   screen_name  623 non-null    object\n",
            " 1   state        623 non-null    object\n",
            " 2   position     623 non-null    object\n",
            " 3   name         623 non-null    object\n",
            " 4   party        623 non-null    object\n",
            " 5   tweet_count  623 non-null    int64 \n",
            " 6   vectors      623 non-null    object\n",
            "dtypes: int64(1), object(6)\n",
            "memory usage: 38.9+ KB\n"
          ],
          "name": "stdout"
        }
      ]
    },
    {
      "cell_type": "code",
      "metadata": {
        "colab": {
          "base_uri": "https://localhost:8080/"
        },
        "id": "yYfUS2lwBzkM",
        "outputId": "e0751418-2c4b-41d6-d67e-ba5278fc30b9"
      },
      "source": [
        "data['vectors'][0][0]"
      ],
      "execution_count": 16,
      "outputs": [
        {
          "output_type": "execute_result",
          "data": {
            "text/plain": [
              "0    [-0.19524726380000001, 0.3918217854, 0.0493305...\n",
              "0    [-0.1972977185, 0.4062525852, 0.04576505, -0.0...\n",
              "0    [-0.19127933330000002, 0.386952534, 0.05601444...\n",
              "0    [-0.19360094890000001, 0.3976558457, 0.0497050...\n",
              "Name: vectors, dtype: object"
            ]
          },
          "metadata": {
            "tags": []
          },
          "execution_count": 16
        }
      ]
    },
    {
      "cell_type": "code",
      "metadata": {
        "colab": {
          "base_uri": "https://localhost:8080/"
        },
        "id": "iDh7ApWJCJBB",
        "outputId": "6f5654d2-0d02-4a9b-f408-a2b5dc746689"
      },
      "source": [
        "len(data['vectors'][5])\n"
      ],
      "execution_count": 18,
      "outputs": [
        {
          "output_type": "execute_result",
          "data": {
            "text/plain": [
              "4"
            ]
          },
          "metadata": {
            "tags": []
          },
          "execution_count": 18
        }
      ]
    },
    {
      "cell_type": "code",
      "metadata": {
        "colab": {
          "base_uri": "https://localhost:8080/"
        },
        "id": "7-c82lRnBzcL",
        "outputId": "ab622fe1-4c34-47a2-91c1-da2416b049c6"
      },
      "source": [
        "data.shape"
      ],
      "execution_count": 19,
      "outputs": [
        {
          "output_type": "execute_result",
          "data": {
            "text/plain": [
              "(623, 7)"
            ]
          },
          "metadata": {
            "tags": []
          },
          "execution_count": 19
        }
      ]
    },
    {
      "cell_type": "code",
      "metadata": {
        "id": "zDt5dxdZymg6"
      },
      "source": [
        "# Define X and train, test, split\n",
        "X = data['vectors']\n",
        "X = np.matrix(X.tolist())\n",
        "\n",
        "# X = pd.DataFrame(data = list(data['vectors']), columns = list(range(1, 301)))\n",
        "\n",
        "\n",
        "# data_list = [nlp(doc).vector.reshape(1,-1) for doc in data]\n",
        "# data_ = np.concatenate(data_list)\n",
        "\n",
        "# data_.shape\n",
        "\n",
        "# data_list = [nlp(doc).vector.reshape(1,-1) for doc in corpus]\n",
        "# data = np.concatenate(data_list)\n",
        "\n",
        "# X = data.reshape(1,-1)\n",
        "# X.shape\n",
        "\n",
        "# sent = sent.reshape(1,-1)\n",
        "# sent.shape\n",
        "\n",
        "# (300,)"
      ],
      "execution_count": 20,
      "outputs": []
    },
    {
      "cell_type": "code",
      "metadata": {
        "colab": {
          "base_uri": "https://localhost:8080/"
        },
        "id": "CCEvSTuo5_kD",
        "outputId": "558c41ba-d69c-4f42-9985-f1554b9aae0e"
      },
      "source": [
        "X.shape"
      ],
      "execution_count": 21,
      "outputs": [
        {
          "output_type": "execute_result",
          "data": {
            "text/plain": [
              "(623, 300)"
            ]
          },
          "metadata": {
            "tags": []
          },
          "execution_count": 21
        }
      ]
    },
    {
      "cell_type": "code",
      "metadata": {
        "colab": {
          "base_uri": "https://localhost:8080/"
        },
        "id": "t0_LyUUDyu3X",
        "outputId": "821261f3-3923-4f3b-ddd2-353a2b2c1946"
      },
      "source": [
        "\n",
        "# Instantiate and fit a gridsearch for a KMeans clustering model\n",
        "km = KMeans()\n",
        "\n",
        "params = {\n",
        "    'n_clusters': [2, 3, 4, 5, 6, 7, 8, 9] #, 10] #, 11, 12, 13, 14, 15, 16, 17, 18, 19, 20]\n",
        "    # 'n_clusters': [25, 30, 35, 40, 45, 50, 55, 60, 65, 70, 75, 80, 85, 90, 95, 100]\n",
        "   \n",
        "}\n",
        "\n",
        "gs = GridSearchCV(km, params, cv=5)\n",
        "gs.fit(X)\n",
        "\n",
        "# Get the best estimator\n",
        "print(gs.best_estimator_)\n",
        "print('-----------------')\n",
        "print(silhouette_score(X, gs.best_estimator_.labels_))"
      ],
      "execution_count": 31,
      "outputs": [
        {
          "output_type": "stream",
          "text": [
            "KMeans(algorithm='auto', copy_x=True, init='k-means++', max_iter=300,\n",
            "       n_clusters=9, n_init=10, n_jobs=None, precompute_distances='auto',\n",
            "       random_state=None, tol=0.0001, verbose=0)\n",
            "-----------------\n",
            "0.08684503348682494\n"
          ],
          "name": "stdout"
        }
      ]
    },
    {
      "cell_type": "code",
      "metadata": {
        "id": "fk7FVkZRyuzQ",
        "colab": {
          "base_uri": "https://localhost:8080/"
        },
        "outputId": "0f62501f-5ca3-4721-c483-63599c9984c6"
      },
      "source": [
        "# Create new column with KMeans labels and look at distribution of labels\n",
        "data['km_labels'] = gs.best_estimator_.labels_\n",
        "data['km_labels'].value_counts()"
      ],
      "execution_count": 32,
      "outputs": [
        {
          "output_type": "execute_result",
          "data": {
            "text/plain": [
              "1    133\n",
              "8    112\n",
              "4     96\n",
              "6     95\n",
              "3     90\n",
              "5     63\n",
              "7     18\n",
              "0     12\n",
              "2      4\n",
              "Name: km_labels, dtype: int64"
            ]
          },
          "metadata": {
            "tags": []
          },
          "execution_count": 32
        }
      ]
    },
    {
      "cell_type": "code",
      "metadata": {
        "id": "Qcsq9XN0yuue"
      },
      "source": [
        " "
      ],
      "execution_count": null,
      "outputs": []
    },
    {
      "cell_type": "code",
      "metadata": {
        "id": "gQJxJthdyuqi"
      },
      "source": [
        ""
      ],
      "execution_count": null,
      "outputs": []
    }
  ]
}